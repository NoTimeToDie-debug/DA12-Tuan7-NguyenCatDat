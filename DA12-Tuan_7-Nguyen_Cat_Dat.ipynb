{
 "cells": [
  {
   "cell_type": "markdown",
   "metadata": {},
   "source": [
    "##### Bài 1:\n",
    "* Đếm số chuyến bay trễ của các sân bay (cột ‘origin’)\n",
    "* Tương tự, đếm số chuyến bay không trễ của các sân bay\n",
    "* Tạo bảng hiển thị số chuyến bay trễ vs. không trễ\n",
    "* Vẽ lên biểu đồ\n",
    "##### Bài 2: \n",
    "* Thực hiện tương tự với các hãng hàng không (cột ‘carrier’)\n",
    "##### Bài 3:\n",
    "* Tính thời gian trễ (gồm dep_delay và arr_delay) trung bình của các hãng\n",
    "* Tính thời gian trễ (gồm dep_delay và arr_delay) trung bình từ các sân bay\n",
    "* Vẽ các kết quả lên biểu đồ\n",
    "##### Bài 4: \n",
    "* Tính tổng, trung bình, mean, median của quãng đường bay của từng hãng (cột distance)"
   ]
  },
  {
   "cell_type": "code",
   "execution_count": 120,
   "metadata": {},
   "outputs": [
    {
     "data": {
      "text/html": [
       "<div>\n",
       "<style scoped>\n",
       "    .dataframe tbody tr th:only-of-type {\n",
       "        vertical-align: middle;\n",
       "    }\n",
       "\n",
       "    .dataframe tbody tr th {\n",
       "        vertical-align: top;\n",
       "    }\n",
       "\n",
       "    .dataframe thead th {\n",
       "        text-align: right;\n",
       "    }\n",
       "</style>\n",
       "<table border=\"1\" class=\"dataframe\">\n",
       "  <thead>\n",
       "    <tr style=\"text-align: right;\">\n",
       "      <th></th>\n",
       "      <th>Unnamed: 0</th>\n",
       "      <th>year</th>\n",
       "      <th>month</th>\n",
       "      <th>day</th>\n",
       "      <th>dep_time</th>\n",
       "      <th>dep_delay</th>\n",
       "      <th>arr_time</th>\n",
       "      <th>arr_delay</th>\n",
       "      <th>carrier</th>\n",
       "      <th>tailnum</th>\n",
       "      <th>flight</th>\n",
       "      <th>origin</th>\n",
       "      <th>dest</th>\n",
       "      <th>air_time</th>\n",
       "      <th>distance</th>\n",
       "      <th>hour</th>\n",
       "      <th>minute</th>\n",
       "    </tr>\n",
       "  </thead>\n",
       "  <tbody>\n",
       "    <tr>\n",
       "      <th>0</th>\n",
       "      <td>1</td>\n",
       "      <td>2013</td>\n",
       "      <td>1</td>\n",
       "      <td>1</td>\n",
       "      <td>517.0</td>\n",
       "      <td>2.0</td>\n",
       "      <td>830.0</td>\n",
       "      <td>11.0</td>\n",
       "      <td>UA</td>\n",
       "      <td>N14228</td>\n",
       "      <td>1545</td>\n",
       "      <td>EWR</td>\n",
       "      <td>IAH</td>\n",
       "      <td>227.0</td>\n",
       "      <td>1400</td>\n",
       "      <td>5.0</td>\n",
       "      <td>17.0</td>\n",
       "    </tr>\n",
       "    <tr>\n",
       "      <th>1</th>\n",
       "      <td>2</td>\n",
       "      <td>2013</td>\n",
       "      <td>1</td>\n",
       "      <td>1</td>\n",
       "      <td>533.0</td>\n",
       "      <td>4.0</td>\n",
       "      <td>850.0</td>\n",
       "      <td>20.0</td>\n",
       "      <td>UA</td>\n",
       "      <td>N24211</td>\n",
       "      <td>1714</td>\n",
       "      <td>LGA</td>\n",
       "      <td>IAH</td>\n",
       "      <td>227.0</td>\n",
       "      <td>1416</td>\n",
       "      <td>5.0</td>\n",
       "      <td>33.0</td>\n",
       "    </tr>\n",
       "    <tr>\n",
       "      <th>2</th>\n",
       "      <td>3</td>\n",
       "      <td>2013</td>\n",
       "      <td>1</td>\n",
       "      <td>1</td>\n",
       "      <td>542.0</td>\n",
       "      <td>2.0</td>\n",
       "      <td>923.0</td>\n",
       "      <td>33.0</td>\n",
       "      <td>AA</td>\n",
       "      <td>N619AA</td>\n",
       "      <td>1141</td>\n",
       "      <td>JFK</td>\n",
       "      <td>MIA</td>\n",
       "      <td>160.0</td>\n",
       "      <td>1089</td>\n",
       "      <td>5.0</td>\n",
       "      <td>42.0</td>\n",
       "    </tr>\n",
       "    <tr>\n",
       "      <th>3</th>\n",
       "      <td>4</td>\n",
       "      <td>2013</td>\n",
       "      <td>1</td>\n",
       "      <td>1</td>\n",
       "      <td>544.0</td>\n",
       "      <td>-1.0</td>\n",
       "      <td>1004.0</td>\n",
       "      <td>-18.0</td>\n",
       "      <td>B6</td>\n",
       "      <td>N804JB</td>\n",
       "      <td>725</td>\n",
       "      <td>JFK</td>\n",
       "      <td>BQN</td>\n",
       "      <td>183.0</td>\n",
       "      <td>1576</td>\n",
       "      <td>5.0</td>\n",
       "      <td>44.0</td>\n",
       "    </tr>\n",
       "    <tr>\n",
       "      <th>4</th>\n",
       "      <td>5</td>\n",
       "      <td>2013</td>\n",
       "      <td>1</td>\n",
       "      <td>1</td>\n",
       "      <td>554.0</td>\n",
       "      <td>-6.0</td>\n",
       "      <td>812.0</td>\n",
       "      <td>-25.0</td>\n",
       "      <td>DL</td>\n",
       "      <td>N668DN</td>\n",
       "      <td>461</td>\n",
       "      <td>LGA</td>\n",
       "      <td>ATL</td>\n",
       "      <td>116.0</td>\n",
       "      <td>762</td>\n",
       "      <td>5.0</td>\n",
       "      <td>54.0</td>\n",
       "    </tr>\n",
       "  </tbody>\n",
       "</table>\n",
       "</div>"
      ],
      "text/plain": [
       "   Unnamed: 0  year  month  day  dep_time  dep_delay  arr_time  arr_delay  \\\n",
       "0           1  2013      1    1     517.0        2.0     830.0       11.0   \n",
       "1           2  2013      1    1     533.0        4.0     850.0       20.0   \n",
       "2           3  2013      1    1     542.0        2.0     923.0       33.0   \n",
       "3           4  2013      1    1     544.0       -1.0    1004.0      -18.0   \n",
       "4           5  2013      1    1     554.0       -6.0     812.0      -25.0   \n",
       "\n",
       "  carrier tailnum  flight origin dest  air_time  distance  hour  minute  \n",
       "0      UA  N14228    1545    EWR  IAH     227.0      1400   5.0    17.0  \n",
       "1      UA  N24211    1714    LGA  IAH     227.0      1416   5.0    33.0  \n",
       "2      AA  N619AA    1141    JFK  MIA     160.0      1089   5.0    42.0  \n",
       "3      B6  N804JB     725    JFK  BQN     183.0      1576   5.0    44.0  \n",
       "4      DL  N668DN     461    LGA  ATL     116.0       762   5.0    54.0  "
      ]
     },
     "execution_count": 120,
     "metadata": {},
     "output_type": "execute_result"
    }
   ],
   "source": [
    "import pandas as pd\n",
    "import numpy as np\n",
    "import matplotlib.pyplot as plt\n",
    "\n",
    "# Load the CSV file into a DataFrame\n",
    "df = pd.read_csv('nycflights.csv')\n",
    "\n",
    "df.head()"
   ]
  },
  {
   "cell_type": "code",
   "execution_count": 121,
   "metadata": {},
   "outputs": [
    {
     "name": "stdout",
     "output_type": "stream",
     "text": [
      "<class 'pandas.core.frame.DataFrame'>\n",
      "RangeIndex: 336776 entries, 0 to 336775\n",
      "Data columns (total 17 columns):\n",
      " #   Column      Non-Null Count   Dtype  \n",
      "---  ------      --------------   -----  \n",
      " 0   Unnamed: 0  336776 non-null  int64  \n",
      " 1   year        336776 non-null  int64  \n",
      " 2   month       336776 non-null  int64  \n",
      " 3   day         336776 non-null  int64  \n",
      " 4   dep_time    328521 non-null  float64\n",
      " 5   dep_delay   328521 non-null  float64\n",
      " 6   arr_time    328063 non-null  float64\n",
      " 7   arr_delay   327346 non-null  float64\n",
      " 8   carrier     336776 non-null  object \n",
      " 9   tailnum     334264 non-null  object \n",
      " 10  flight      336776 non-null  int64  \n",
      " 11  origin      336776 non-null  object \n",
      " 12  dest        336776 non-null  object \n",
      " 13  air_time    327346 non-null  float64\n",
      " 14  distance    336776 non-null  int64  \n",
      " 15  hour        328521 non-null  float64\n",
      " 16  minute      328521 non-null  float64\n",
      "dtypes: float64(7), int64(6), object(4)\n",
      "memory usage: 43.7+ MB\n"
     ]
    }
   ],
   "source": [
    "df.info()"
   ]
  },
  {
   "cell_type": "code",
   "execution_count": 122,
   "metadata": {},
   "outputs": [
    {
     "name": "stdout",
     "output_type": "stream",
     "text": [
      "<class 'pandas.core.frame.DataFrame'>\n",
      "Index: 336776 entries, 250450 to 336775\n",
      "Data columns (total 17 columns):\n",
      " #   Column      Non-Null Count   Dtype  \n",
      "---  ------      --------------   -----  \n",
      " 0   Unnamed: 0  336776 non-null  int64  \n",
      " 1   year        336776 non-null  int64  \n",
      " 2   month       336776 non-null  int64  \n",
      " 3   day         336776 non-null  int64  \n",
      " 4   dep_time    328521 non-null  float64\n",
      " 5   dep_delay   336776 non-null  float64\n",
      " 6   arr_time    328063 non-null  float64\n",
      " 7   arr_delay   327346 non-null  float64\n",
      " 8   carrier     336776 non-null  object \n",
      " 9   tailnum     334264 non-null  object \n",
      " 10  flight      336776 non-null  int64  \n",
      " 11  origin      336776 non-null  object \n",
      " 12  dest        336776 non-null  object \n",
      " 13  air_time    327346 non-null  float64\n",
      " 14  distance    336776 non-null  int64  \n",
      " 15  hour        328521 non-null  float64\n",
      " 16  minute      328521 non-null  float64\n",
      "dtypes: float64(7), int64(6), object(4)\n",
      "memory usage: 46.2+ MB\n"
     ]
    }
   ],
   "source": [
    "# Sort the DataFrame based on a time-based column\n",
    "df = df.sort_values('dep_time')\n",
    "\n",
    "# Interpolate the null values in the 'dep_delay' column using linear interpolation\n",
    "df['dep_delay'] = df['dep_delay'].interpolate(method='linear')\n",
    "df.info()"
   ]
  },
  {
   "cell_type": "code",
   "execution_count": 123,
   "metadata": {},
   "outputs": [
    {
     "name": "stdout",
     "output_type": "stream",
     "text": [
      "origin\n",
      "EWR    55950\n",
      "JFK    43894\n",
      "LGA    36843\n",
      "Name: count, dtype: int64\n"
     ]
    }
   ],
   "source": [
    "# Count flight delays by origin\n",
    "delay_counts = df[df['dep_delay'] > 0]['origin'].value_counts()\n",
    "\n",
    "print(delay_counts)"
   ]
  },
  {
   "cell_type": "code",
   "execution_count": 124,
   "metadata": {},
   "outputs": [
    {
     "name": "stdout",
     "output_type": "stream",
     "text": [
      "origin\n",
      "LGA    67819\n",
      "JFK    67385\n",
      "EWR    64885\n",
      "Name: count, dtype: int64\n"
     ]
    }
   ],
   "source": [
    "# Count non-delayed flights by origin\n",
    "non_delay_counts = df[df['dep_delay'] <= 0]['origin'].value_counts()\n",
    "\n",
    "print(non_delay_counts)"
   ]
  },
  {
   "cell_type": "code",
   "execution_count": 125,
   "metadata": {},
   "outputs": [
    {
     "name": "stdout",
     "output_type": "stream",
     "text": [
      "        Delayed  Non-delayed\n",
      "origin                      \n",
      "EWR       55950        64885\n",
      "JFK       43894        67385\n",
      "LGA       36843        67819\n"
     ]
    }
   ],
   "source": [
    "# Create a table with delayed and non-delayed counts\n",
    "table = pd.DataFrame({'Delayed' : delay_counts, 'Non-delayed' :  non_delay_counts})\n",
    "\n",
    "print(table)"
   ]
  },
  {
   "cell_type": "code",
   "execution_count": 140,
   "metadata": {},
   "outputs": [
    {
     "data": {
      "image/png": "[encoded data removed]",
      "text/plain": [
       "<Figure size 640x480 with 1 Axes>"
      ]
     },
     "metadata": {},
     "output_type": "display_data"
    }
   ],
   "source": [
    "ax = table.plot(kind='bar')\n",
    "\n",
    "# Set the chart title and labels\n",
    "plt.title(\"Number of Delayed and Non-Delayed Flights by Origin\")\n",
    "plt.xlabel(\"Origin\")\n",
    "plt.ylabel(\"Number of flights\")\n",
    "\n",
    "for i, (origin, row) in enumerate(table.iterrows()):\n",
    "    delayed_count = row['Delayed']\n",
    "    non_delayed_count = row['Non-delayed']\n",
    "\n",
    "    # Add annotations for delayed counts\n",
    "    ax.text(i - 0.215, delayed_count + 1000, str(delayed_count), size=8)\n",
    "\n",
    "    # Add annotations for non-delayed counts\n",
    "    ax.text(i + 0.03, non_delayed_count + 1000, str(non_delayed_count), size=8)\n",
    "\n",
    "ax.legend(loc='upper right', fontsize=8, frameon=True)\n",
    "ax.set_yticklabels([])\n",
    "ax.grid(False)\n",
    "ax.set_ylim(0, 90000)\n",
    "plt.show()"
   ]
  },
  {
   "cell_type": "code",
   "execution_count": 143,
   "metadata": {},
   "outputs": [
    {
     "name": "stdout",
     "output_type": "stream",
     "text": [
      "carrier\n",
      "UA    27947\n",
      "EV    25956\n",
      "B6    21911\n",
      "DL    15590\n",
      "AA    10798\n",
      "MQ     9265\n",
      "9E     8107\n",
      "WN     6750\n",
      "US     5438\n",
      "VX     2256\n",
      "FL     1727\n",
      "F9      344\n",
      "YV      289\n",
      "AS      228\n",
      "HA       69\n",
      "OO       12\n",
      "Name: count, dtype: int64\n",
      "carrier\n",
      "B6    32724\n",
      "DL    32520\n",
      "UA    30718\n",
      "EV    28217\n",
      "AA    21931\n",
      "MQ    17132\n",
      "US    15098\n",
      "9E    10353\n",
      "WN     5525\n",
      "VX     2906\n",
      "FL     1533\n",
      "AS      486\n",
      "F9      341\n",
      "YV      312\n",
      "HA      273\n",
      "OO       20\n",
      "Name: count, dtype: int64\n",
      "         Delayed-carrier  Non-delayed-carrier\n",
      "carrier                                      \n",
      "9E                  8107                10353\n",
      "AA                 10798                21931\n",
      "AS                   228                  486\n",
      "B6                 21911                32724\n",
      "DL                 15590                32520\n",
      "EV                 25956                28217\n",
      "F9                   344                  341\n",
      "FL                  1727                 1533\n",
      "HA                    69                  273\n",
      "MQ                  9265                17132\n",
      "OO                    12                   20\n",
      "UA                 27947                30718\n",
      "US                  5438                15098\n",
      "VX                  2256                 2906\n",
      "WN                  6750                 5525\n",
      "YV                   289                  312\n"
     ]
    }
   ],
   "source": [
    "# Count flight delays by carrier\n",
    "delay_carrier = df[df['dep_delay'] > 0]['carrier'].value_counts()\n",
    "\n",
    "# Count flight delays by non_carrier\n",
    "non_delay_carrier = df[df['dep_delay'] <= 0]['carrier'].value_counts()\n",
    "\n",
    "print(delay_carrier)\n",
    "print(non_delay_carrier)"
   ]
  },
  {
   "cell_type": "code",
   "execution_count": 144,
   "metadata": {},
   "outputs": [
    {
     "name": "stdout",
     "output_type": "stream",
     "text": [
      "         Delayed-carrier  Non-delayed-carrier\n",
      "carrier                                      \n",
      "9E                  8107                10353\n",
      "AA                 10798                21931\n",
      "AS                   228                  486\n",
      "B6                 21911                32724\n",
      "DL                 15590                32520\n",
      "EV                 25956                28217\n",
      "F9                   344                  341\n",
      "FL                  1727                 1533\n",
      "HA                    69                  273\n",
      "MQ                  9265                17132\n",
      "OO                    12                   20\n",
      "UA                 27947                30718\n",
      "US                  5438                15098\n",
      "VX                  2256                 2906\n",
      "WN                  6750                 5525\n",
      "YV                   289                  312\n"
     ]
    }
   ],
   "source": [
    "# Create a table with delayed and non-delayed by carrier\n",
    "table_carrier = pd.DataFrame({'Delayed-carrier' : delay_carrier, 'Non-delayed-carrier' :  non_delay_carrier})\n",
    "\n",
    "print(table_carrier)"
   ]
  },
  {
   "cell_type": "code",
   "execution_count": 173,
   "metadata": {},
   "outputs": [
    {
     "data": {
      "image/png": "[encoded data removed]",
      "text/plain": [
       "<Figure size 2000x600 with 1 Axes>"
      ]
     },
     "metadata": {},
     "output_type": "display_data"
    }
   ],
   "source": [
    "fig, ax = plt.subplots(figsize=(20, 6))\n",
    "\n",
    "width = 0.4  # Độ rộng của mỗi cột\n",
    "x = np.arange(len(table_carrier))  \n",
    "# Vẽ cột \"delayed\"\n",
    "ax.bar(x - width/2, table_carrier['Delayed-carrier'], width, label='Delayed-carrier')\n",
    "# Vẽ cột \"non-delayed\"\n",
    "ax.bar(x + width/2, table_carrier['Non-delayed-carrier'], width, label='Non-delayed-carrier')\n",
    "\n",
    "ax.set_title(\"Number of Delayed and Non-Delayed Flights by Carrier\")\n",
    "ax.set_xlabel(\"Carrier\")\n",
    "ax.set_ylabel(\"Number of flights\")\n",
    "\n",
    "# Đặt các nhãn cho trục x\n",
    "ax.set_xticks(x)\n",
    "ax.set_xticklabels(table_carrier.index)\n",
    "\n",
    "for i, (carrier, row) in enumerate(table_carrier.iterrows()):\n",
    "    delayed_carrier = row['Delayed-carrier']\n",
    "    non_delayed_carrier = row['Non-delayed-carrier']\n",
    "\n",
    "    # Thêm nhãn cho cột delayed_carrier\n",
    "    ax.text(i - width/2, delayed_carrier + 500, str(delayed_carrier), size=8, ha='center')\n",
    "\n",
    "    # Thêm nhãn cho cột non_delayed_carrier\n",
    "    ax.text(i + width/2, non_delayed_carrier + 500, str(non_delayed_carrier), size=8, ha='center')\n",
    "\n",
    "ax.legend(loc='upper right', fontsize=8, frameon=True)\n",
    "ax.set_yticklabels([])\n",
    "ax.grid(False)\n",
    "ax.set_ylim(0, 40000)\n",
    "plt.show()"
   ]
  }
 ],
 "metadata": {
  "kernelspec": {
   "display_name": "base",
   "language": "python",
   "name": "python3"
  },
  "language_info": {
   "codemirror_mode": {
    "name": "ipython",
    "version": 3
   },
   "file_extension": ".py",
   "mimetype": "text/x-python",
   "name": "python",
   "nbconvert_exporter": "python",
   "pygments_lexer": "ipython3",
   "version": "3.11.5"
  }
 },
 "nbformat": 4,
 "nbformat_minor": 2
}
